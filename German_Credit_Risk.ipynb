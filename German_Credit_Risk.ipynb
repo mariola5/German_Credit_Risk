{
  "nbformat": 4,
  "nbformat_minor": 0,
  "metadata": {
    "colab": {
      "name": "German_Credit_Risk.ipynb",
      "provenance": [],
      "authorship_tag": "ABX9TyOnlO+pR2WUF8JGC16WY6q6",
      "include_colab_link": true
    },
    "kernelspec": {
      "name": "python3",
      "display_name": "Python 3"
    }
  },
  "cells": [
    {
      "cell_type": "markdown",
      "metadata": {
        "id": "view-in-github",
        "colab_type": "text"
      },
      "source": [
        "<a href=\"https://colab.research.google.com/github/mariola5/German_Credit_Risk/blob/main/German_Credit_Risk.ipynb\" target=\"_parent\"><img src=\"https://colab.research.google.com/assets/colab-badge.svg\" alt=\"Open In Colab\"/></a>"
      ]
    },
    {
      "cell_type": "markdown",
      "metadata": {
        "id": "ZZZpOoyE1J3v"
      },
      "source": [
        "German Credit Risk"
      ]
    },
    {
      "cell_type": "markdown",
      "metadata": {
        "id": "KI9cUkb81OBC"
      },
      "source": [
        "##Import Bibliotek"
      ]
    },
    {
      "cell_type": "code",
      "metadata": {
        "id": "oWRq2CWf1EJE"
      },
      "source": [
        "import pandas as pd\r\n",
        "import numpy as np\r\n",
        "import seaborn as sns \r\n",
        "import matplotlib.pyplot as plt"
      ],
      "execution_count": 21,
      "outputs": []
    },
    {
      "cell_type": "markdown",
      "metadata": {
        "id": "Mp7SccJ91Tfp"
      },
      "source": [
        "#Import danych"
      ]
    },
    {
      "cell_type": "code",
      "metadata": {
        "id": "Rm4sk9fw1VPx"
      },
      "source": [
        "german_df = pd.read_csv(\"/content/german_credit_data.csv\")"
      ],
      "execution_count": 22,
      "outputs": []
    },
    {
      "cell_type": "code",
      "metadata": {
        "colab": {
          "base_uri": "https://localhost:8080/",
          "height": 144
        },
        "id": "BpkH7AlH1aFo",
        "outputId": "53db6f1f-0242-4d1b-ea06-ac8869324eb0"
      },
      "source": [
        "german_df.head(3)"
      ],
      "execution_count": 23,
      "outputs": [
        {
          "output_type": "execute_result",
          "data": {
            "text/html": [
              "<div>\n",
              "<style scoped>\n",
              "    .dataframe tbody tr th:only-of-type {\n",
              "        vertical-align: middle;\n",
              "    }\n",
              "\n",
              "    .dataframe tbody tr th {\n",
              "        vertical-align: top;\n",
              "    }\n",
              "\n",
              "    .dataframe thead th {\n",
              "        text-align: right;\n",
              "    }\n",
              "</style>\n",
              "<table border=\"1\" class=\"dataframe\">\n",
              "  <thead>\n",
              "    <tr style=\"text-align: right;\">\n",
              "      <th></th>\n",
              "      <th>Age</th>\n",
              "      <th>Sex</th>\n",
              "      <th>Job</th>\n",
              "      <th>Housing</th>\n",
              "      <th>Saving accounts</th>\n",
              "      <th>Checking account</th>\n",
              "      <th>Credit amount</th>\n",
              "      <th>Duration</th>\n",
              "      <th>Purpose</th>\n",
              "      <th>Risk</th>\n",
              "    </tr>\n",
              "  </thead>\n",
              "  <tbody>\n",
              "    <tr>\n",
              "      <th>0</th>\n",
              "      <td>67</td>\n",
              "      <td>male</td>\n",
              "      <td>2</td>\n",
              "      <td>own</td>\n",
              "      <td>NaN</td>\n",
              "      <td>little</td>\n",
              "      <td>1169</td>\n",
              "      <td>6</td>\n",
              "      <td>radio/TV</td>\n",
              "      <td>good</td>\n",
              "    </tr>\n",
              "    <tr>\n",
              "      <th>1</th>\n",
              "      <td>22</td>\n",
              "      <td>female</td>\n",
              "      <td>2</td>\n",
              "      <td>own</td>\n",
              "      <td>little</td>\n",
              "      <td>moderate</td>\n",
              "      <td>5951</td>\n",
              "      <td>48</td>\n",
              "      <td>radio/TV</td>\n",
              "      <td>bad</td>\n",
              "    </tr>\n",
              "    <tr>\n",
              "      <th>2</th>\n",
              "      <td>49</td>\n",
              "      <td>male</td>\n",
              "      <td>1</td>\n",
              "      <td>own</td>\n",
              "      <td>little</td>\n",
              "      <td>NaN</td>\n",
              "      <td>2096</td>\n",
              "      <td>12</td>\n",
              "      <td>education</td>\n",
              "      <td>good</td>\n",
              "    </tr>\n",
              "  </tbody>\n",
              "</table>\n",
              "</div>"
            ],
            "text/plain": [
              "   Age     Sex  Job Housing  ... Credit amount Duration    Purpose  Risk\n",
              "0   67    male    2     own  ...          1169        6   radio/TV  good\n",
              "1   22  female    2     own  ...          5951       48   radio/TV   bad\n",
              "2   49    male    1     own  ...          2096       12  education  good\n",
              "\n",
              "[3 rows x 10 columns]"
            ]
          },
          "metadata": {
            "tags": []
          },
          "execution_count": 23
        }
      ]
    },
    {
      "cell_type": "code",
      "metadata": {
        "colab": {
          "base_uri": "https://localhost:8080/"
        },
        "id": "0mrWqVYL1fkU",
        "outputId": "d4ad0486-3ec9-46d0-b445-0c1959918fae"
      },
      "source": [
        "german_df.info()"
      ],
      "execution_count": 24,
      "outputs": [
        {
          "output_type": "stream",
          "text": [
            "<class 'pandas.core.frame.DataFrame'>\n",
            "RangeIndex: 1000 entries, 0 to 999\n",
            "Data columns (total 10 columns):\n",
            " #   Column            Non-Null Count  Dtype \n",
            "---  ------            --------------  ----- \n",
            " 0   Age               1000 non-null   int64 \n",
            " 1   Sex               1000 non-null   object\n",
            " 2   Job               1000 non-null   int64 \n",
            " 3   Housing           1000 non-null   object\n",
            " 4   Saving accounts   817 non-null    object\n",
            " 5   Checking account  606 non-null    object\n",
            " 6   Credit amount     1000 non-null   int64 \n",
            " 7   Duration          1000 non-null   int64 \n",
            " 8   Purpose           1000 non-null   object\n",
            " 9   Risk              1000 non-null   object\n",
            "dtypes: int64(4), object(6)\n",
            "memory usage: 78.2+ KB\n"
          ],
          "name": "stdout"
        }
      ]
    },
    {
      "cell_type": "code",
      "metadata": {
        "id": "j93JTYyv1h5q"
      },
      "source": [
        "german_df.columns = german_df.columns.str.replace(\" \", \"_\") "
      ],
      "execution_count": 25,
      "outputs": []
    },
    {
      "cell_type": "code",
      "metadata": {
        "colab": {
          "base_uri": "https://localhost:8080/"
        },
        "id": "dkeOFfpi1kkt",
        "outputId": "ad9f4c35-5d21-4828-e2f7-6735c0a4262b"
      },
      "source": [
        "german_df.nunique()"
      ],
      "execution_count": 26,
      "outputs": [
        {
          "output_type": "execute_result",
          "data": {
            "text/plain": [
              "Age                  53\n",
              "Sex                   2\n",
              "Job                   4\n",
              "Housing               3\n",
              "Saving_accounts       4\n",
              "Checking_account      3\n",
              "Credit_amount       921\n",
              "Duration             33\n",
              "Purpose               8\n",
              "Risk                  2\n",
              "dtype: int64"
            ]
          },
          "metadata": {
            "tags": []
          },
          "execution_count": 26
        }
      ]
    },
    {
      "cell_type": "markdown",
      "metadata": {
        "id": "mj5XIjYn2QSl"
      },
      "source": [
        "#Prezentacja danych na wykresach\r\n",
        "W tym zbiorze danych każdy wpis reprezentuje osobę, która bierze kredyt w banku. Każda osoba podlega klasyfikacji na dobre lub złe ryzyko kredytowe zgodnie z zestawem atrybutów."
      ]
    },
    {
      "cell_type": "code",
      "metadata": {
        "colab": {
          "base_uri": "https://localhost:8080/",
          "height": 328
        },
        "id": "JAj98t2y2TfB",
        "outputId": "ad6b6209-aca8-4c5e-b582-8219d1abaff7"
      },
      "source": [
        "german_df['Risk'].value_counts().plot(kind='bar', title=\"Target variable distribution\", xlabel=\"Risk Variable\", ylabel=\"Count\", legend=True, cmap='viridis')"
      ],
      "execution_count": 27,
      "outputs": [
        {
          "output_type": "execute_result",
          "data": {
            "text/plain": [
              "<matplotlib.axes._subplots.AxesSubplot at 0x7f7cf68e7590>"
            ]
          },
          "metadata": {
            "tags": []
          },
          "execution_count": 27
        },
        {
          "output_type": "display_data",
          "data": {
            "image/png": "[encoded data removed]",
            "text/plain": [
              "<Figure size 432x288 with 1 Axes>"
            ]
          },
          "metadata": {
            "tags": [],
            "needs_background": "light"
          }
        }
      ]
    },
    {
      "cell_type": "markdown",
      "metadata": {
        "id": "Wy8qOeSV2fFv"
      },
      "source": [
        "Poniżej na 4 wykresach ryzyko ze względu na wiek, poziom wykształcenia, czas trwania (w miesiącach) oraz przeznaczenie kredytu."
      ]
    },
    {
      "cell_type": "code",
      "metadata": {
        "colab": {
          "base_uri": "https://localhost:8080/",
          "height": 517
        },
        "id": "11QoNXr82jAd",
        "outputId": "3c782da1-162e-4d30-8554-715b856cf917"
      },
      "source": [
        "fig, ax = plt.subplots(nrows=4, figsize=(15,9))\r\n",
        "plt.subplots_adjust(hspace = 0.9, top = 0.8)\r\n",
        "\r\n",
        "g1 = sns.countplot(x=\"Age\",data=german_df, \r\n",
        "              palette=\"autumn\", ax=ax[0], \r\n",
        "              hue = \"Risk\")\r\n",
        "g1.set_title(\"Age Counting by Risk\", fontsize=15)\r\n",
        "g1.set_xlabel(\"Age\")\r\n",
        "g1.set_ylabel(\"Count\")\r\n",
        "\r\n",
        "g2 = sns.countplot(x=\"Job\",data=german_df, \r\n",
        "              palette=\"autumn\", ax=ax[1], \r\n",
        "              hue = \"Risk\")\r\n",
        "g2.set_title(\"Job Counting by Risk\", fontsize=15)\r\n",
        "g2.set_xlabel(\"Job\")\r\n",
        "g2.set_ylabel(\"Count\")\r\n",
        "\r\n",
        "g3 = sns.countplot(x=\"Duration\",data=german_df, \r\n",
        "              palette=\"autumn\", ax=ax[2], \r\n",
        "              hue = \"Risk\")\r\n",
        "g3.set_title(\"Duration Counting by Risk\", fontsize=15)\r\n",
        "g3.set_xlabel(\"Duration\")\r\n",
        "g3.set_ylabel(\"Count\")\r\n",
        "\r\n",
        "g4 = sns.countplot(x=\"Purpose\",data=german_df, \r\n",
        "              palette=\"autumn\", ax=ax[3], \r\n",
        "              hue = \"Risk\")\r\n",
        "g4.set_title(\"Purpose Counting by Risk\", fontsize=15)\r\n",
        "g4.set_xlabel(\"Purpose\")\r\n",
        "g4.set_ylabel(\"Count\")\r\n",
        "\r\n",
        "plt.show()"
      ],
      "execution_count": 29,
      "outputs": [
        {
          "output_type": "display_data",
          "data": {
            "image/png": "[encoded data removed]",
            "text/plain": [
              "<Figure size 1080x648 with 4 Axes>"
            ]
          },
          "metadata": {
            "tags": [],
            "needs_background": "light"
          }
        }
      ]
    }
  ]
}