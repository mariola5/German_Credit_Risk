{
  "nbformat": 4,
  "nbformat_minor": 0,
  "metadata": {
    "colab": {
      "name": "German_Credit_Risk.ipynb",
      "provenance": [],
      "authorship_tag": "ABX9TyPz8JHRe/OcaT1G93uYuFI9",
      "include_colab_link": true
    },
    "kernelspec": {
      "name": "python3",
      "display_name": "Python 3"
    }
  },
  "cells": [
    {
      "cell_type": "markdown",
      "metadata": {
        "id": "view-in-github",
        "colab_type": "text"
      },
      "source": [
        "<a href=\"https://colab.research.google.com/github/mariola5/German_Credit_Risk/blob/main/German_Credit_Risk.ipynb\" target=\"_parent\"><img src=\"https://colab.research.google.com/assets/colab-badge.svg\" alt=\"Open In Colab\"/></a>"
      ]
    },
    {
      "cell_type": "markdown",
      "metadata": {
        "id": "ZZZpOoyE1J3v"
      },
      "source": [
        "German Credit Risk"
      ]
    },
    {
      "cell_type": "markdown",
      "metadata": {
        "id": "KI9cUkb81OBC"
      },
      "source": [
        "##Import Bibliotek"
      ]
    },
    {
      "cell_type": "code",
      "metadata": {
        "id": "oWRq2CWf1EJE"
      },
      "source": [
        "import pandas as pd\r\n",
        "import numpy as np\r\n",
        "import seaborn as sns \r\n",
        "import matplotlib.pyplot as plt"
      ],
      "execution_count": 54,
      "outputs": []
    },
    {
      "cell_type": "markdown",
      "metadata": {
        "id": "Mp7SccJ91Tfp"
      },
      "source": [
        "#Import danych"
      ]
    },
    {
      "cell_type": "code",
      "metadata": {
        "id": "Rm4sk9fw1VPx"
      },
      "source": [
        "german_df = pd.read_csv(\"/content/german_credit_data.csv\")"
      ],
      "execution_count": 55,
      "outputs": []
    },
    {
      "cell_type": "code",
      "metadata": {
        "colab": {
          "base_uri": "https://localhost:8080/",
          "height": 143
        },
        "id": "BpkH7AlH1aFo",
        "outputId": "827f0b46-750c-4648-eef6-af23185d78dc"
      },
      "source": [
        "german_df.head(3)"
      ],
      "execution_count": 56,
      "outputs": [
        {
          "output_type": "execute_result",
          "data": {
            "text/html": [
              "<div>\n",
              "<style scoped>\n",
              "    .dataframe tbody tr th:only-of-type {\n",
              "        vertical-align: middle;\n",
              "    }\n",
              "\n",
              "    .dataframe tbody tr th {\n",
              "        vertical-align: top;\n",
              "    }\n",
              "\n",
              "    .dataframe thead th {\n",
              "        text-align: right;\n",
              "    }\n",
              "</style>\n",
              "<table border=\"1\" class=\"dataframe\">\n",
              "  <thead>\n",
              "    <tr style=\"text-align: right;\">\n",
              "      <th></th>\n",
              "      <th>Age</th>\n",
              "      <th>Sex</th>\n",
              "      <th>Job</th>\n",
              "      <th>Housing</th>\n",
              "      <th>Saving accounts</th>\n",
              "      <th>Checking account</th>\n",
              "      <th>Credit amount</th>\n",
              "      <th>Duration</th>\n",
              "      <th>Purpose</th>\n",
              "      <th>Risk</th>\n",
              "    </tr>\n",
              "  </thead>\n",
              "  <tbody>\n",
              "    <tr>\n",
              "      <th>0</th>\n",
              "      <td>67</td>\n",
              "      <td>male</td>\n",
              "      <td>2</td>\n",
              "      <td>own</td>\n",
              "      <td>NaN</td>\n",
              "      <td>little</td>\n",
              "      <td>1169</td>\n",
              "      <td>6</td>\n",
              "      <td>radio/TV</td>\n",
              "      <td>good</td>\n",
              "    </tr>\n",
              "    <tr>\n",
              "      <th>1</th>\n",
              "      <td>22</td>\n",
              "      <td>female</td>\n",
              "      <td>2</td>\n",
              "      <td>own</td>\n",
              "      <td>little</td>\n",
              "      <td>moderate</td>\n",
              "      <td>5951</td>\n",
              "      <td>48</td>\n",
              "      <td>radio/TV</td>\n",
              "      <td>bad</td>\n",
              "    </tr>\n",
              "    <tr>\n",
              "      <th>2</th>\n",
              "      <td>49</td>\n",
              "      <td>male</td>\n",
              "      <td>1</td>\n",
              "      <td>own</td>\n",
              "      <td>little</td>\n",
              "      <td>NaN</td>\n",
              "      <td>2096</td>\n",
              "      <td>12</td>\n",
              "      <td>education</td>\n",
              "      <td>good</td>\n",
              "    </tr>\n",
              "  </tbody>\n",
              "</table>\n",
              "</div>"
            ],
            "text/plain": [
              "   Age     Sex  Job Housing  ... Credit amount Duration    Purpose  Risk\n",
              "0   67    male    2     own  ...          1169        6   radio/TV  good\n",
              "1   22  female    2     own  ...          5951       48   radio/TV   bad\n",
              "2   49    male    1     own  ...          2096       12  education  good\n",
              "\n",
              "[3 rows x 10 columns]"
            ]
          },
          "metadata": {
            "tags": []
          },
          "execution_count": 56
        }
      ]
    },
    {
      "cell_type": "code",
      "metadata": {
        "colab": {
          "base_uri": "https://localhost:8080/"
        },
        "id": "0mrWqVYL1fkU",
        "outputId": "b51de389-9be3-4667-aed8-024958c411e2"
      },
      "source": [
        "german_df.info()"
      ],
      "execution_count": 57,
      "outputs": [
        {
          "output_type": "stream",
          "text": [
            "<class 'pandas.core.frame.DataFrame'>\n",
            "RangeIndex: 1000 entries, 0 to 999\n",
            "Data columns (total 10 columns):\n",
            " #   Column            Non-Null Count  Dtype \n",
            "---  ------            --------------  ----- \n",
            " 0   Age               1000 non-null   int64 \n",
            " 1   Sex               1000 non-null   object\n",
            " 2   Job               1000 non-null   int64 \n",
            " 3   Housing           1000 non-null   object\n",
            " 4   Saving accounts   817 non-null    object\n",
            " 5   Checking account  606 non-null    object\n",
            " 6   Credit amount     1000 non-null   int64 \n",
            " 7   Duration          1000 non-null   int64 \n",
            " 8   Purpose           1000 non-null   object\n",
            " 9   Risk              1000 non-null   object\n",
            "dtypes: int64(4), object(6)\n",
            "memory usage: 78.2+ KB\n"
          ],
          "name": "stdout"
        }
      ]
    },
    {
      "cell_type": "code",
      "metadata": {
        "id": "j93JTYyv1h5q"
      },
      "source": [
        "german_df.columns = german_df.columns.str.replace(\" \", \"_\") "
      ],
      "execution_count": 58,
      "outputs": []
    },
    {
      "cell_type": "code",
      "metadata": {
        "colab": {
          "base_uri": "https://localhost:8080/"
        },
        "id": "dkeOFfpi1kkt",
        "outputId": "0b3e0f1e-df3f-4354-be69-6735cb9c94f3"
      },
      "source": [
        "german_df.nunique()"
      ],
      "execution_count": 59,
      "outputs": [
        {
          "output_type": "execute_result",
          "data": {
            "text/plain": [
              "Age                  53\n",
              "Sex                   2\n",
              "Job                   4\n",
              "Housing               3\n",
              "Saving_accounts       4\n",
              "Checking_account      3\n",
              "Credit_amount       921\n",
              "Duration             33\n",
              "Purpose               8\n",
              "Risk                  2\n",
              "dtype: int64"
            ]
          },
          "metadata": {
            "tags": []
          },
          "execution_count": 59
        }
      ]
    },
    {
      "cell_type": "markdown",
      "metadata": {
        "id": "mj5XIjYn2QSl"
      },
      "source": [
        "#Prezentacja danych na wykresach\r\n",
        "W tym zbiorze danych każdy wpis reprezentuje osobę, która bierze kredyt w banku. Każda osoba podlega klasyfikacji na dobre lub złe ryzyko kredytowe zgodnie z zestawem atrybutów."
      ]
    },
    {
      "cell_type": "code",
      "metadata": {
        "colab": {
          "base_uri": "https://localhost:8080/",
          "height": 328
        },
        "id": "JAj98t2y2TfB",
        "outputId": "2b8f99b7-58ba-4ce3-a633-2540bac3be1a"
      },
      "source": [
        "german_df['Risk'].value_counts().plot(kind='bar', title=\"Target variable distribution\", xlabel=\"Risk Variable\", ylabel=\"Count\", legend=True, cmap='viridis')"
      ],
      "execution_count": 60,
      "outputs": [
        {
          "output_type": "execute_result",
          "data": {
            "text/plain": [
              "<matplotlib.axes._subplots.AxesSubplot at 0x7f64a81374d0>"
            ]
          },
          "metadata": {
            "tags": []
          },
          "execution_count": 60
        },
        {
          "output_type": "display_data",
          "data": {
            "image/png": "[encoded data removed]",
            "text/plain": [
              "<Figure size 432x288 with 1 Axes>"
            ]
          },
          "metadata": {
            "tags": [],
            "needs_background": "light"
          }
        }
      ]
    },
    {
      "cell_type": "markdown",
      "metadata": {
        "id": "Wy8qOeSV2fFv"
      },
      "source": [
        "Poniżej na 4 wykresach ryzyko ze względu na wiek, poziom wykształcenia, czas trwania (w miesiącach) oraz przeznaczenie kredytu."
      ]
    },
    {
      "cell_type": "code",
      "metadata": {
        "colab": {
          "base_uri": "https://localhost:8080/",
          "height": 517
        },
        "id": "11QoNXr82jAd",
        "outputId": "f61c8183-e8bb-4fcd-e79a-19c6972a5faa"
      },
      "source": [
        "fig, ax = plt.subplots(nrows=4, figsize=(15,9))\r\n",
        "plt.subplots_adjust(hspace = 0.9, top = 0.8)\r\n",
        "\r\n",
        "g1 = sns.countplot(x=\"Age\",data=german_df, \r\n",
        "              palette=\"autumn\", ax=ax[0], \r\n",
        "              hue = \"Risk\")\r\n",
        "g1.set_title(\"Age Counting by Risk\", fontsize=15)\r\n",
        "g1.set_xlabel(\"Age\")\r\n",
        "g1.set_ylabel(\"Count\")\r\n",
        "\r\n",
        "g2 = sns.countplot(x=\"Job\",data=german_df, \r\n",
        "              palette=\"autumn\", ax=ax[1], \r\n",
        "              hue = \"Risk\")\r\n",
        "g2.set_title(\"Job Counting by Risk\", fontsize=15)\r\n",
        "g2.set_xlabel(\"Job\")\r\n",
        "g2.set_ylabel(\"Count\")\r\n",
        "\r\n",
        "g3 = sns.countplot(x=\"Duration\",data=german_df, \r\n",
        "              palette=\"autumn\", ax=ax[2], \r\n",
        "              hue = \"Risk\")\r\n",
        "g3.set_title(\"Duration Counting by Risk\", fontsize=15)\r\n",
        "g3.set_xlabel(\"Duration\")\r\n",
        "g3.set_ylabel(\"Count\")\r\n",
        "\r\n",
        "g4 = sns.countplot(x=\"Purpose\",data=german_df, \r\n",
        "              palette=\"autumn\", ax=ax[3], \r\n",
        "              hue = \"Risk\")\r\n",
        "g4.set_title(\"Purpose Counting by Risk\", fontsize=15)\r\n",
        "g4.set_xlabel(\"Purpose\")\r\n",
        "g4.set_ylabel(\"Count\")\r\n",
        "\r\n",
        "plt.show()"
      ],
      "execution_count": 61,
      "outputs": [
        {
          "output_type": "display_data",
          "data": {
            "image/png": "[encoded data removed]",
            "text/plain": [
              "<Figure size 1080x648 with 4 Axes>"
            ]
          },
          "metadata": {
            "tags": [],
            "needs_background": "light"
          }
        }
      ]
    },
    {
      "cell_type": "markdown",
      "metadata": {
        "id": "EqfMZcWWHGuo"
      },
      "source": [
        "#Liczba udzielonych kredytów ze względu na przeznaczenie"
      ]
    },
    {
      "cell_type": "code",
      "metadata": {
        "colab": {
          "base_uri": "https://localhost:8080/"
        },
        "id": "oLMSV_thTJZM",
        "outputId": "d3d6b512-4454-4d83-fb22-14ced46bd5b4"
      },
      "source": [
        "n_credits = german_df.groupby(\"Purpose\")[\"Purpose\"].count().rename(\"Count\").reset_index()\r\n",
        "print(n_credits)"
      ],
      "execution_count": 62,
      "outputs": [
        {
          "output_type": "stream",
          "text": [
            "               Purpose  Count\n",
            "0             business     97\n",
            "1                  car    337\n",
            "2  domestic appliances     12\n",
            "3            education     59\n",
            "4  furniture/equipment    181\n",
            "5             radio/TV    280\n",
            "6              repairs     22\n",
            "7      vacation/others     12\n"
          ],
          "name": "stdout"
        }
      ]
    },
    {
      "cell_type": "code",
      "metadata": {
        "colab": {
          "base_uri": "https://localhost:8080/",
          "height": 442
        },
        "id": "KQTQPPYZTgo1",
        "outputId": "3f928cbb-e93f-4e9f-8e65-9e16419fa995"
      },
      "source": [
        "n_credits = german_df.groupby(\"Purpose\")[\"Purpose\"].count().rename(\"Count\").reset_index()\r\n",
        "n_credits.sort_values(by=[\"Count\"], ascending=False, inplace=True)\r\n",
        "\r\n",
        "plt.figure(figsize=(10,6))\r\n",
        "bar = sns.barplot(x=\"Purpose\",y=\"Count\",data=n_credits)\r\n",
        "bar.set_xticklabels(bar.get_xticklabels(), rotation=55)\r\n",
        "plt.ylabel(\"Number of granted credits\")\r\n",
        "plt.tight_layout()"
      ],
      "execution_count": 63,
      "outputs": [
        {
          "output_type": "display_data",
          "data": {
            "image/png": "[encoded data removed]",
            "text/plain": [
              "<Figure size 720x432 with 1 Axes>"
            ]
          },
          "metadata": {
            "tags": [],
            "needs_background": "light"
          }
        }
      ]
    },
    {
      "cell_type": "markdown",
      "metadata": {
        "id": "whUkUYIxXOty"
      },
      "source": [
        "Wniosek: Większość kredytów została przyznana na samochód i radio/telewizję."
      ]
    },
    {
      "cell_type": "markdown",
      "metadata": {
        "id": "tFvvcvdWg4pF"
      },
      "source": [
        "#Uzupełnienie brakujących wartości"
      ]
    },
    {
      "cell_type": "code",
      "metadata": {
        "colab": {
          "base_uri": "https://localhost:8080/"
        },
        "id": "4JYUTHGQhUfw",
        "outputId": "702dabda-f741-4413-ed1d-769a957e7f29"
      },
      "source": [
        "german_df.isna().sum()"
      ],
      "execution_count": 64,
      "outputs": [
        {
          "output_type": "execute_result",
          "data": {
            "text/plain": [
              "Age                   0\n",
              "Sex                   0\n",
              "Job                   0\n",
              "Housing               0\n",
              "Saving_accounts     183\n",
              "Checking_account    394\n",
              "Credit_amount         0\n",
              "Duration              0\n",
              "Purpose               0\n",
              "Risk                  0\n",
              "dtype: int64"
            ]
          },
          "metadata": {
            "tags": []
          },
          "execution_count": 64
        }
      ]
    },
    {
      "cell_type": "code",
      "metadata": {
        "colab": {
          "base_uri": "https://localhost:8080/",
          "height": 424
        },
        "id": "I6MbSqO0hAn1",
        "outputId": "68566b3f-7aaa-4efd-ec79-39dce81bcba5"
      },
      "source": [
        "german_df[['Saving_accounts', 'Checking_account']]"
      ],
      "execution_count": 65,
      "outputs": [
        {
          "output_type": "execute_result",
          "data": {
            "text/html": [
              "<div>\n",
              "<style scoped>\n",
              "    .dataframe tbody tr th:only-of-type {\n",
              "        vertical-align: middle;\n",
              "    }\n",
              "\n",
              "    .dataframe tbody tr th {\n",
              "        vertical-align: top;\n",
              "    }\n",
              "\n",
              "    .dataframe thead th {\n",
              "        text-align: right;\n",
              "    }\n",
              "</style>\n",
              "<table border=\"1\" class=\"dataframe\">\n",
              "  <thead>\n",
              "    <tr style=\"text-align: right;\">\n",
              "      <th></th>\n",
              "      <th>Saving_accounts</th>\n",
              "      <th>Checking_account</th>\n",
              "    </tr>\n",
              "  </thead>\n",
              "  <tbody>\n",
              "    <tr>\n",
              "      <th>0</th>\n",
              "      <td>NaN</td>\n",
              "      <td>little</td>\n",
              "    </tr>\n",
              "    <tr>\n",
              "      <th>1</th>\n",
              "      <td>little</td>\n",
              "      <td>moderate</td>\n",
              "    </tr>\n",
              "    <tr>\n",
              "      <th>2</th>\n",
              "      <td>little</td>\n",
              "      <td>NaN</td>\n",
              "    </tr>\n",
              "    <tr>\n",
              "      <th>3</th>\n",
              "      <td>little</td>\n",
              "      <td>little</td>\n",
              "    </tr>\n",
              "    <tr>\n",
              "      <th>4</th>\n",
              "      <td>little</td>\n",
              "      <td>little</td>\n",
              "    </tr>\n",
              "    <tr>\n",
              "      <th>...</th>\n",
              "      <td>...</td>\n",
              "      <td>...</td>\n",
              "    </tr>\n",
              "    <tr>\n",
              "      <th>995</th>\n",
              "      <td>little</td>\n",
              "      <td>NaN</td>\n",
              "    </tr>\n",
              "    <tr>\n",
              "      <th>996</th>\n",
              "      <td>little</td>\n",
              "      <td>little</td>\n",
              "    </tr>\n",
              "    <tr>\n",
              "      <th>997</th>\n",
              "      <td>little</td>\n",
              "      <td>NaN</td>\n",
              "    </tr>\n",
              "    <tr>\n",
              "      <th>998</th>\n",
              "      <td>little</td>\n",
              "      <td>little</td>\n",
              "    </tr>\n",
              "    <tr>\n",
              "      <th>999</th>\n",
              "      <td>moderate</td>\n",
              "      <td>moderate</td>\n",
              "    </tr>\n",
              "  </tbody>\n",
              "</table>\n",
              "<p>1000 rows × 2 columns</p>\n",
              "</div>"
            ],
            "text/plain": [
              "    Saving_accounts Checking_account\n",
              "0               NaN           little\n",
              "1            little         moderate\n",
              "2            little              NaN\n",
              "3            little           little\n",
              "4            little           little\n",
              "..              ...              ...\n",
              "995          little              NaN\n",
              "996          little           little\n",
              "997          little              NaN\n",
              "998          little           little\n",
              "999        moderate         moderate\n",
              "\n",
              "[1000 rows x 2 columns]"
            ]
          },
          "metadata": {
            "tags": []
          },
          "execution_count": 65
        }
      ]
    },
    {
      "cell_type": "code",
      "metadata": {
        "id": "zMAQRzKKg_6x"
      },
      "source": [
        "for col in ['Saving_accounts', 'Checking_account']:\r\n",
        "    german_df[col].fillna('none', inplace=True)"
      ],
      "execution_count": 66,
      "outputs": []
    },
    {
      "cell_type": "code",
      "metadata": {
        "colab": {
          "base_uri": "https://localhost:8080/"
        },
        "id": "-zfaiZ3khk9F",
        "outputId": "0d11593a-d612-4ec8-c8ce-dfc31f3a1f16"
      },
      "source": [
        "german_df.isna().sum()"
      ],
      "execution_count": 67,
      "outputs": [
        {
          "output_type": "execute_result",
          "data": {
            "text/plain": [
              "Age                 0\n",
              "Sex                 0\n",
              "Job                 0\n",
              "Housing             0\n",
              "Saving_accounts     0\n",
              "Checking_account    0\n",
              "Credit_amount       0\n",
              "Duration            0\n",
              "Purpose             0\n",
              "Risk                0\n",
              "dtype: int64"
            ]
          },
          "metadata": {
            "tags": []
          },
          "execution_count": 67
        }
      ]
    },
    {
      "cell_type": "code",
      "metadata": {
        "colab": {
          "base_uri": "https://localhost:8080/",
          "height": 529
        },
        "id": "nQ85u4gwnC7x",
        "outputId": "2451746f-6b75-4379-a198-c91827e24ba9"
      },
      "source": [
        "fig, (ax1, ax2) = plt.subplots(1,2, figsize=(10,8))\r\n",
        "sns.countplot(x=\"Saving_accounts\", hue=\"Risk\", data=german_df, ax=ax1)\r\n",
        "sns.countplot(x=\"Checking_account\", hue=\"Risk\", data=german_df, ax=ax2)\r\n",
        "ax1.set_xticklabels(ax1.get_xticklabels(), rotation=45)\r\n",
        "ax2.set_xticklabels(ax2.get_xticklabels(), rotation=45)\r\n",
        "\r\n",
        "\r\n",
        "fig.show()"
      ],
      "execution_count": 68,
      "outputs": [
        {
          "output_type": "display_data",
          "data": {
            "image/png": "[encoded data removed]",
            "text/plain": [
              "<Figure size 720x576 with 2 Axes>"
            ]
          },
          "metadata": {
            "tags": [],
            "needs_background": "light"
          }
        }
      ]
    },
    {
      "cell_type": "markdown",
      "metadata": {
        "id": "53I4iUmfoNIa"
      },
      "source": [
        "Wnioski: Im osoba bogatsza, tym większa szansa na sklasyfikowanie jako dobre ryzyko. Natomiast zdumiewające jest to, że brak informacji o poziomie zamożności w kolumnie Checking_account większości przypadków klasyfikuje jako dobre ryzyko.\r\n",
        "W kolumnie Checking_account osoby mające mało pieniędzy mają równy rozkład ryzyka. Natomiast w kolumnie Saving_accounts, więcej osób zostaje sklasyfikowana jako dobre ryzyko. Ma to sens, ponieważ samo istnienie konta oszczędnościowego wiąże się z pewnym stopniem bezpieczeństwa finansowego."
      ]
    }
  ]
}